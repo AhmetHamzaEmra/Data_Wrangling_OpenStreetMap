{
 "cells": [
  {
   "cell_type": "code",
   "execution_count": 3,
   "metadata": {
    "collapsed": false
   },
   "outputs": [
    {
     "name": "stdout",
     "output_type": "stream",
     "text": [
      "[{'_id': 'afdreher', 'count': 73034},\n",
      " {'_id': 'balrog-kun', 'count': 33825},\n",
      " {'_id': 'scottyc', 'count': 32250},\n",
      " {'_id': 'DaveHansenTiger', 'count': 29565},\n",
      " {'_id': 'cammace', 'count': 28135},\n",
      " {'_id': 'skquinn', 'count': 16956},\n",
      " {'_id': 'RoadGeek_MD99', 'count': 13553},\n",
      " {'_id': 'brianboru', 'count': 12761},\n",
      " {'_id': 'claysmalley', 'count': 12364},\n",
      " {'_id': 'Memoire', 'count': 7632}]\n"
     ]
    }
   ],
   "source": [
    "from pymongo import MongoClient\n",
    "import pprint\n",
    "client = MongoClient('127.0.0.1:27017')\n",
    "db = client['test']\n",
    "q1=[doc for doc in db.houstonways.aggregate([{\"$group\":{ \"_id\":\"$created.user\", \"count\":{\"$sum\":1}}},\n",
    "                                         {\"$sort\":{\"count\":-1}},\n",
    "                                         {\"$limit\":10}])]\n",
    "pprint.pprint(q1)"
   ]
  },
  {
   "cell_type": "code",
   "execution_count": 4,
   "metadata": {
    "collapsed": false
   },
   "outputs": [
    {
     "name": "stdout",
     "output_type": "stream",
     "text": [
      "[{'_id': 'gas', 'count': 7},\n",
      " {'_id': 'gasoline; jet fuel; diesel', 'count': 3},\n",
      " {'_id': 'public', 'count': 3},\n",
      " {'_id': 'oil', 'count': 2},\n",
      " {'_id': 'civil', 'count': 1},\n",
      " {'_id': 'outdoor', 'count': 1},\n",
      " {'_id': 'Public', 'count': 1}]\n"
     ]
    }
   ],
   "source": [
    "q2=[doc for doc in db.houstonways.aggregate([{\"$group\":{ \"_id\":\"$type\", \"count\":{\"$sum\":1}}},\n",
    "                                         {\"$sort\":{\"count\":-1}},\n",
    "                                         {\"$skip\":1},\n",
    "                                         {\"$limit\":10}])]\n",
    "pprint.pprint(q2)"
   ]
  },
  {
   "cell_type": "code",
   "execution_count": 5,
   "metadata": {
    "collapsed": false
   },
   "outputs": [
    {
     "name": "stdout",
     "output_type": "stream",
     "text": [
      "[{'_id': 'Harris, TX', 'count': 123664},\n",
      " {'_id': 'Fort Bend, TX', 'count': 15516},\n",
      " {'_id': 'Brazoria, TX', 'count': 12478},\n",
      " {'_id': 'Galveston, TX', 'count': 9328},\n",
      " {'_id': 'Montgomery, TX', 'count': 8704},\n",
      " {'_id': 'Liberty, TX', 'count': 3055},\n",
      " {'_id': 'Matagorda, TX', 'count': 2211},\n",
      " {'_id': 'Chambers, TX', 'count': 1882},\n",
      " {'_id': 'Wharton, TX', 'count': 1878},\n",
      " {'_id': 'Waller, TX', 'count': 1781}]\n"
     ]
    }
   ],
   "source": [
    "q3=[doc for doc in db.houstonways.aggregate([{\"$group\":{ \"_id\":\"$tiger:county\", \"count\":{\"$sum\":1}}},\n",
    "                                         {\"$sort\":{\"count\":-1}},\n",
    "                                         {\"$skip\":1},\n",
    "                                         {\"$limit\":10}])]\n",
    "pprint.pprint(q3)"
   ]
  },
  {
   "cell_type": "code",
   "execution_count": 6,
   "metadata": {
    "collapsed": false
   },
   "outputs": [
    {
     "name": "stdout",
     "output_type": "stream",
     "text": [
      "[{'_id': '35 mph', 'count': 1100},\n",
      " {'_id': '60 mph', 'count': 525},\n",
      " {'_id': '65 mph', 'count': 441},\n",
      " {'_id': '45 mph', 'count': 300},\n",
      " {'_id': '40 mph', 'count': 281},\n",
      " {'_id': '30 mph', 'count': 205},\n",
      " {'_id': '50 mph', 'count': 197},\n",
      " {'_id': '20 mph', 'count': 134}]\n"
     ]
    }
   ],
   "source": [
    "q4=[doc for doc in db.houstonways.aggregate([{\"$group\":{ \"_id\":\"$maxspeed\", \"count\":{\"$sum\":1}}},\n",
    "                                         {\"$sort\":{\"count\":-1}},\n",
    "                                         {\"$skip\":1},\n",
    "                                         {\"$limit\":8}])]\n",
    "pprint.pprint(q4)"
   ]
  },
  {
   "cell_type": "code",
   "execution_count": 7,
   "metadata": {
    "collapsed": false
   },
   "outputs": [
    {
     "name": "stdout",
     "output_type": "stream",
     "text": [
      "[{'_id': 'woodpeck_fixbot', 'count': 588574},\n",
      " {'_id': 'TexasNHD', 'count': 543274},\n",
      " {'_id': 'afdreher', 'count': 376692},\n",
      " {'_id': 'scottyc', 'count': 172487},\n",
      " {'_id': 'cammace', 'count': 165707},\n",
      " {'_id': 'brianboru', 'count': 114565},\n",
      " {'_id': 'claysmalley', 'count': 93469},\n",
      " {'_id': 'RoadGeek_MD99', 'count': 69860},\n",
      " {'_id': 'skquinn', 'count': 64037},\n",
      " {'_id': 'xsintrik', 'count': 48721}]\n"
     ]
    }
   ],
   "source": [
    "q5=[doc for doc in db.houstonnodes.aggregate([{\"$group\":{ \"_id\":\"$created.user\", \"count\":{\"$sum\":1}}},\n",
    "                                         {\"$sort\":{\"count\":-1}},\n",
    "                                         {\"$limit\":10}])]\n",
    "pprint.pprint(q5)"
   ]
  },
  {
   "cell_type": "code",
   "execution_count": 39,
   "metadata": {
    "collapsed": false
   },
   "outputs": [
    {
     "name": "stdout",
     "output_type": "stream",
     "text": [
      "[{'_id': 'woodpeck_fixbot', 'count': 588574},\n",
      " {'_id': 'TexasNHD', 'count': 543274},\n",
      " {'_id': 'afdreher', 'count': 376692},\n",
      " {'_id': 'scottyc', 'count': 172487},\n",
      " {'_id': 'cammace', 'count': 165707},\n",
      " {'_id': 'brianboru', 'count': 114565},\n",
      " {'_id': 'claysmalley', 'count': 93469},\n",
      " {'_id': 'RoadGeek_MD99', 'count': 69860},\n",
      " {'_id': 'skquinn', 'count': 64037},\n",
      " {'_id': 'xsintrik', 'count': 48721}]\n"
     ]
    }
   ],
   "source": [
    "q6=[doc for doc in db.houstonnodes.aggregate([{\"$group\":{\"_id\":\"$created.user\", \"count\":{\"$sum\":1}}},\n",
    "                                              {\"$sort\":{\"count\":-1}}, {\"$limit\":10}])]\n",
    "pprint.pprint(q6)"
   ]
  },
  {
   "cell_type": "code",
   "execution_count": 11,
   "metadata": {
    "collapsed": false
   },
   "outputs": [
    {
     "name": "stdout",
     "output_type": "stream",
     "text": [
      "[{'_id': 'christian', 'count': 2150},\n",
      " {'_id': None, 'count': 23},\n",
      " {'_id': 'buddhist', 'count': 14},\n",
      " {'_id': 'jewish', 'count': 12},\n",
      " {'_id': 'muslim', 'count': 8},\n",
      " {'_id': 'unitarian_universalist', 'count': 4}]\n"
     ]
    }
   ],
   "source": [
    "q7=[doc for doc in db.houstonnodes.aggregate([{\"$match\":{\"amenity\":{\"$exists\":1}, \"amenity\":\"place_of_worship\"}},\n",
    "                                              {\"$group\":{\"_id\":\"$religion\", \"count\":{\"$sum\":1}}},\n",
    "                                            {\"$sort\":{\"count\":-1}}])]\n",
    "pprint.pprint(q7)"
   ]
  },
  {
   "cell_type": "code",
   "execution_count": 46,
   "metadata": {
    "collapsed": false
   },
   "outputs": [
    {
     "name": "stdout",
     "output_type": "stream",
     "text": [
      "[{'_id': 'Pine Island Church', 'count': 1},\n",
      " {'_id': 'Advent Lutheran Church', 'count': 1},\n",
      " {'_id': 'Church of the Good Shepherd', 'count': 1},\n",
      " {'_id': 'Iglesia Bautista Houston', 'count': 1},\n",
      " {'_id': 'First Baptist Church of Patton Lakes', 'count': 1}]\n"
     ]
    }
   ],
   "source": [
    "q8=[doc for doc in db.houstonnodes.aggregate([{\"$match\":{\"amenity\":{\"$exists\":1}}},\n",
    "                                              {\"$match\":{\"religion\":\"christian\"}},\n",
    "                                             {\"$group\":{\"_id\":\"$name\",\"count\":{\"$sum\":1}}},\n",
    "                                             {\"$limit\":5}])]\n",
    "pprint.pprint(q8)"
   ]
  },
  {
   "cell_type": "code",
   "execution_count": 33,
   "metadata": {
    "collapsed": false
   },
   "outputs": [
    {
     "name": "stdout",
     "output_type": "stream",
     "text": [
      "[{'_id': None, 'count': 2882395}, {'_id': '77003', 'count': 1}]\n"
     ]
    }
   ],
   "source": [
    "q9=[doc for doc in db.houstonnodes.aggregate([{\"$group\":{\"_id\":\"$Zipcode\", \"count\":{\"$sum\":1}}}, \n",
    "                                              {\"$sort\":{\"count\":-1}}])]\n",
    "pprint.pprint(q9)"
   ]
  },
  {
   "cell_type": "code",
   "execution_count": 40,
   "metadata": {
    "collapsed": false
   },
   "outputs": [
    {
     "name": "stdout",
     "output_type": "stream",
     "text": [
      "[{'_id': 'afdreher', 'count': 73034},\n",
      " {'_id': 'balrog-kun', 'count': 33825},\n",
      " {'_id': 'scottyc', 'count': 32250},\n",
      " {'_id': 'DaveHansenTiger', 'count': 29565},\n",
      " {'_id': 'cammace', 'count': 28135},\n",
      " {'_id': 'skquinn', 'count': 16956},\n",
      " {'_id': 'RoadGeek_MD99', 'count': 13553},\n",
      " {'_id': 'brianboru', 'count': 12761},\n",
      " {'_id': 'claysmalley', 'count': 12364},\n",
      " {'_id': 'Memoire', 'count': 7632}]\n"
     ]
    }
   ],
   "source": [
    "q6=[doc for doc in db.houstonways.aggregate([{\"$group\":{\"_id\":\"$created.user\", \"count\":{\"$sum\":1}}},\n",
    "                                              {\"$sort\":{\"count\":-1}}, {\"$limit\":10}])]\n",
    "pprint.pprint(q6)"
   ]
  },
  {
   "cell_type": "code",
   "execution_count": 42,
   "metadata": {
    "collapsed": false
   },
   "outputs": [
    {
     "name": "stdout",
     "output_type": "stream",
     "text": [
      "[{'_id': 1, 'num_users': 237}]\n"
     ]
    }
   ],
   "source": [
    "q10=[doc for doc in db.houstonnodes.aggregate([{\"$group\":{\"_id\":\"$created.user\", \"count\":{\"$sum\":1}}}, \n",
    "                                               {\"$group\":{\"_id\":\"$count\", \"num_users\":{\"$sum\":1}}}, \n",
    "                                               {\"$sort\":{\"_id\":1}}, {\"$limit\":1}])]\n",
    "pprint.pprint(q10)"
   ]
  },
  {
   "cell_type": "code",
   "execution_count": 45,
   "metadata": {
    "collapsed": false
   },
   "outputs": [
    {
     "name": "stdout",
     "output_type": "stream",
     "text": [
      "[{'_id': 'place_of_worship', 'count': 2211},\n",
      " {'_id': 'school', 'count': 1033},\n",
      " {'_id': 'fountain', 'count': 657},\n",
      " {'_id': 'restaurant', 'count': 636},\n",
      " {'_id': 'fast_food', 'count': 586},\n",
      " {'_id': 'fire_station', 'count': 355},\n",
      " {'_id': 'fuel', 'count': 253},\n",
      " {'_id': 'pharmacy', 'count': 171},\n",
      " {'_id': 'bank', 'count': 165},\n",
      " {'_id': 'police', 'count': 162}]\n"
     ]
    }
   ],
   "source": [
    "q11=[doc for doc in db.houstonnodes.aggregate([{\"$match\":{\"amenity\":{\"$exists\":1}}}, {\"$group\":{\"_id\":\"$amenity\",\n",
    "\"count\":{\"$sum\":1}}}, {\"$sort\":{\"count\":-1}}, {\"$limit\":10}])]\n",
    "pprint.pprint(q11)"
   ]
  },
  {
   "cell_type": "code",
   "execution_count": null,
   "metadata": {
    "collapsed": true
   },
   "outputs": [],
   "source": []
  }
 ],
 "metadata": {
  "anaconda-cloud": {},
  "kernelspec": {
   "display_name": "Python [conda root]",
   "language": "python",
   "name": "conda-root-py"
  },
  "language_info": {
   "codemirror_mode": {
    "name": "ipython",
    "version": 3
   },
   "file_extension": ".py",
   "mimetype": "text/x-python",
   "name": "python",
   "nbconvert_exporter": "python",
   "pygments_lexer": "ipython3",
   "version": "3.5.2"
  }
 },
 "nbformat": 4,
 "nbformat_minor": 1
}
